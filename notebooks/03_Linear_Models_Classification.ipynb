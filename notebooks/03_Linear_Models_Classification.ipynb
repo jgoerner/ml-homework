{
 "cells": [
  {
   "cell_type": "markdown",
   "metadata": {},
   "source": [
    "# Linear Models\n",
    "The goal of this notebook is to work with Linear Models for classification problems."
   ]
  },
  {
   "cell_type": "markdown",
   "metadata": {},
   "source": [
    "***"
   ]
  },
  {
   "cell_type": "markdown",
   "metadata": {},
   "source": [
    "# Preface"
   ]
  },
  {
   "cell_type": "code",
   "execution_count": 24,
   "metadata": {},
   "outputs": [],
   "source": [
    "import os\n",
    "os.chdir(\"/home/jovyan/work\")\n",
    "\n",
    "import numpy as np\n",
    "import matplotlib.pyplot as plt\n",
    "import seaborn as sns\n",
    "sns.set()\n",
    "\n",
    "from src.linear_models import LeastSquaresClassifier\n",
    "\n",
    "%matplotlib inline\n",
    "plt.rcParams[\"figure.figsize\"] = (7, 7)"
   ]
  },
  {
   "cell_type": "markdown",
   "metadata": {},
   "source": [
    "***"
   ]
  },
  {
   "cell_type": "markdown",
   "metadata": {},
   "source": [
    "# Task 1"
   ]
  },
  {
   "cell_type": "code",
   "execution_count": 25,
   "metadata": {},
   "outputs": [],
   "source": [
    "# generate the data\n",
    "X = np.array([2, 1, 2, 2, 2 ,-1, 3, -2, -2, 1, -1, -1]).reshape(-1, 2)\n",
    "T = np.array([1, 1, 2, 2, 3, 3]).reshape(-1, 1)"
   ]
  },
  {
   "cell_type": "code",
   "execution_count": 26,
   "metadata": {},
   "outputs": [],
   "source": [
    "# train the classfier\n",
    "lsc = LeastSquaresClassifier()\n",
    "lsc.fit(X, T)"
   ]
  },
  {
   "cell_type": "code",
   "execution_count": 27,
   "metadata": {},
   "outputs": [
    {
     "name": "stdout",
     "output_type": "stream",
     "text": [
      "f_1(x) = 0.190 +0.143x_1 +0.286x_2\n",
      "f_2(x) = 0.216 +0.117x_1 -0.221x_2\n",
      "f_3(x) = 0.593 -0.260x_1 -0.065x_2\n"
     ]
    }
   ],
   "source": [
    "# get the discriminant function\n",
    "lsc.discriminant_functions()"
   ]
  },
  {
   "cell_type": "code",
   "execution_count": 28,
   "metadata": {
    "scrolled": true
   },
   "outputs": [
    {
     "data": {
      "text/plain": [
       "array([[3]])"
      ]
     },
     "execution_count": 28,
     "metadata": {},
     "output_type": "execute_result"
    }
   ],
   "source": [
    "# classify\n",
    "p_7 = np.matrix([1, 0])\n",
    "lsc.predict(p_7)"
   ]
  },
  {
   "cell_type": "code",
   "execution_count": 29,
   "metadata": {},
   "outputs": [
    {
     "data": {
      "image/png": "[encoded data removed]",
      "text/plain": [
       "<matplotlib.figure.Figure at 0x7f40b4b7b7f0>"
      ]
     },
     "metadata": {},
     "output_type": "display_data"
    }
   ],
   "source": [
    "# plot decision regions\n",
    "res = 500\n",
    "xx1, xx2 = np.meshgrid(\n",
    "    np.linspace(-3, 4, res),\n",
    "    np.linspace(-3, 3, res),\n",
    ")\n",
    "cls = lsc.predict(np.matrix(np.vstack([xx1.ravel(), xx2.ravel()]).T))\n",
    "# decision regions\n",
    "plt.contourf(\n",
    "    xx1,\n",
    "    xx2,\n",
    "    cls.reshape(xx1.shape),\n",
    "    alpha=0.25,\n",
    "    cmap=\"rainbow\"\n",
    ")\n",
    "# data points\n",
    "plt.scatter(\n",
    "    X.T[0], \n",
    "    X.T[1], \n",
    "    c=T, \n",
    "    edgecolors=\"k\",\n",
    "    cmap=\"rainbow\");"
   ]
  }
 ],
 "metadata": {
  "kernelspec": {
   "display_name": "Python 3",
   "language": "python",
   "name": "python3"
  },
  "language_info": {
   "codemirror_mode": {
    "name": "ipython",
    "version": 3
   },
   "file_extension": ".py",
   "mimetype": "text/x-python",
   "name": "python",
   "nbconvert_exporter": "python",
   "pygments_lexer": "ipython3",
   "version": "3.6.2"
  }
 },
 "nbformat": 4,
 "nbformat_minor": 2
}
